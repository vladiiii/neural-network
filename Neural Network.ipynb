{
 "cells": [
  {
   "cell_type": "markdown",
   "metadata": {},
   "source": [
    "# Implementation Of A Neural Network\n",
    "From: Make your own neural network \n",
    "By: Tariq Rashid "
   ]
  },
  {
   "cell_type": "code",
   "execution_count": 149,
   "metadata": {},
   "outputs": [],
   "source": [
    "import numpy\n",
    "import scipy.special\n",
    "\n",
    "import matplotlib.pyplot as plt\n",
    "%matplotlib inline"
   ]
  },
  {
   "cell_type": "code",
   "execution_count": 150,
   "metadata": {},
   "outputs": [],
   "source": [
    "class neuralNetwork:\n",
    "    \n",
    "    def __init__(self, inputNodes, hiddenNodes, outputNodes, learningRate):\n",
    "        self.inodes = inputNodes\n",
    "        self.hnodes = hiddenNodes\n",
    "        self.onodes = outputNodes\n",
    "        \n",
    "        self.lr = learningRate\n",
    "        \n",
    "        self.wih = numpy.random.normal(0.0, pow(self.hnodes, -0.5), (self.hnodes, self.inodes))\n",
    "        self.who = numpy.random.normal(0.0, pow(self.onodes, -0.5), (self.onodes, self.hnodes))\n",
    "        \n",
    "        self.activation_function = lambda x: scipy.special.expit(x)\n",
    "        pass\n",
    "    def train(self, inputs_list, targets_list):\n",
    "        #convert inputs list into a 2d array\n",
    "        inputs = numpy.array(inputs_list, ndmin=2).T\n",
    "        targets = numpy.array(targets_list, ndmin=2).T\n",
    "        \n",
    "        #calculate the signals into hidden layer\n",
    "        hidden_inputs = numpy.dot(self.wih, inputs)\n",
    "        #calculate the signals from the hidden layer\n",
    "        hidden_outputs = self.activation_function(hidden_inputs)\n",
    "        \n",
    "        #calculate signals into final output layer\n",
    "        final_inputs = numpy.dot(self.who, hidden_outputs)\n",
    "        #calculate the signals emerging from final output layer\n",
    "        final_outputs = self.activation_function(final_inputs)\n",
    "        \n",
    "        output_errors = targets - final_outputs\n",
    "        hidden_errors = numpy.dot(self.who.T, output_errors)\n",
    "        \n",
    "        self.who += self.lr * numpy.dot((output_errors * final_outputs * (1.0 - final_outputs)), numpy.transpose(hidden_outputs))\n",
    "        self.wih += self.lr * numpy.dot((hidden_errors * hidden_outputs * (1.0 - hidden_outputs)), numpy.transpose(inputs))\n",
    "        \n",
    "        pass\n",
    "    def query(self, input_list):\n",
    "        inputs = numpy.array(input_list, ndmin=2).T\n",
    "        \n",
    "        hidden_inputs = numpy.dot(self.wih, inputs)        #X = W * I\n",
    "        hidden_outputs = self.activation_function(hidden_inputs)\n",
    "        \n",
    "        final_inputs = numpy.dot(self.who, hidden_outputs)\n",
    "        final_outputs = self.activation_function(final_inputs)\n",
    "        \n",
    "        return final_outputs"
   ]
  },
  {
   "cell_type": "code",
   "execution_count": 151,
   "metadata": {},
   "outputs": [],
   "source": [
    "input_nodes = 784 #28 * 28\n",
    "hidden_nodes = 100\n",
    "output_nodes = 10 #a number 0-9\n",
    "\n",
    "learningRate = 0.2\n",
    "\n",
    "#instance of a neural network\n",
    "net = neuralNetwork(input_nodes, hidden_nodes, output_nodes, learningRate)\n",
    "\n",
    "#load the minst training data into a list\n",
    "data_file = open(\"mnist_train.csv\", 'r')\n",
    "data_list = data_file.readlines()\n",
    "data_file.close()\n",
    "\n",
    "#train the neural network\n",
    "\n",
    "#going through all the records in the training data\n",
    "#splitting the commas\n",
    "for record in data_list:\n",
    "    all_values = record.split(',')\n",
    "    #scale and shift the inputs\n",
    "    inputs = (numpy.asfarray(all_values[1:]) / 255.0 * 0.99) + 0.01\n",
    "    #create the target output values\n",
    "    targets = numpy.zeros(output_nodes) + 0.01\n",
    "    #all_values[0] is the target label\n",
    "    targets[int(all_values[0])] = 0.99\n",
    "    net.train(inputs, targets)"
   ]
  },
  {
   "cell_type": "code",
   "execution_count": 152,
   "metadata": {},
   "outputs": [
    {
     "name": "stdout",
     "output_type": "stream",
     "text": [
      "7\n"
     ]
    },
    {
     "data": {
      "text/plain": [
       "<matplotlib.image.AxesImage at 0x113c64f98>"
      ]
     },
     "execution_count": 152,
     "metadata": {},
     "output_type": "execute_result"
    },
    {
     "data": {
      "image/png": "[encoded data removed]",
      "text/plain": [
       "<Figure size 432x288 with 1 Axes>"
      ]
     },
     "metadata": {
      "needs_background": "light"
     },
     "output_type": "display_data"
    }
   ],
   "source": [
    "#load the mnist test data into a list\n",
    "test_data_file = open(\"mnist_test.csv\", 'r')\n",
    "test_data_list = test_data_file.readlines()\n",
    "test_data_file.close()\n",
    "\n",
    "#get the first test record\n",
    "all_values = test_data_list[0].split(',')\n",
    "#print the label\n",
    "print(all_values[0])\n",
    "\n",
    "#What the answer should be\n",
    "image_array = numpy.asfarray(all_values[1:]).reshape((28,28))\n",
    "plt.imshow(image_array, cmap='Greys', interpolation='None')\n"
   ]
  },
  {
   "cell_type": "code",
   "execution_count": 153,
   "metadata": {},
   "outputs": [],
   "source": [
    "#what the neural net guesses (the higher the number the bigger the probability)\n",
    "#net.query((numpy.asfarray(all_values[1:]) / 255. * 0.99) + 0.01)"
   ]
  },
  {
   "cell_type": "code",
   "execution_count": 154,
   "metadata": {},
   "outputs": [
    {
     "name": "stdout",
     "output_type": "stream",
     "text": [
      "Correct answers: 9522 out of 10000 thats 95.22%\n"
     ]
    }
   ],
   "source": [
    "#test the neural network\n",
    "scorecard = [] #to see how well the net preforms\n",
    "\n",
    "#go through all the records in the test data set \n",
    "for record in test_data_list:\n",
    "    all_values = record.split(',')\n",
    "    #print what the net should predict\n",
    "    correct_label = int(all_values[0])\n",
    "    #print(correct_label, \"Correct label\")\n",
    "    #scale and shift the inputs\n",
    "    inputs = (numpy.asfarray(all_values[1:]) / 255.0 * 0.99) + 0.01\n",
    "    outputs = net.query(inputs)\n",
    "    #the index of the highest value corresponds to the label\n",
    "    label = numpy.argmax(outputs)\n",
    "    #print(label, \"Networks answer\")\n",
    "    if (label == correct_label):\n",
    "        scorecard.append(1)\n",
    "    else:\n",
    "        scorecard.append(0)\n",
    "        pass\n",
    "    \n",
    "#print(\"Answers correct:\",scorecard)\n",
    "summ = 0\n",
    "for i in scorecard:\n",
    "    if i == 1:\n",
    "        summ += 1\n",
    "print(f\"Correct answers: {summ} out of {numpy.array(scorecard).size} thats {(numpy.array(scorecard).sum() / numpy.array(scorecard).size) * 100}%\")    "
   ]
  },
  {
   "cell_type": "code",
   "execution_count": null,
   "metadata": {},
   "outputs": [],
   "source": []
  }
 ],
 "metadata": {
  "kernelspec": {
   "display_name": "Python 3",
   "language": "python",
   "name": "python3"
  },
  "language_info": {
   "codemirror_mode": {
    "name": "ipython",
    "version": 3
   },
   "file_extension": ".py",
   "mimetype": "text/x-python",
   "name": "python",
   "nbconvert_exporter": "python",
   "pygments_lexer": "ipython3",
   "version": "3.7.3"
  }
 },
 "nbformat": 4,
 "nbformat_minor": 2
}
